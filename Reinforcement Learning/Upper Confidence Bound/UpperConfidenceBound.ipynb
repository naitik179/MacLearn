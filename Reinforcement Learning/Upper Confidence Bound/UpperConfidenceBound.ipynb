{
  "nbformat": 4,
  "nbformat_minor": 0,
  "metadata": {
    "colab": {
      "name": "UpperConfidenceBound.ipynb",
      "provenance": []
    },
    "kernelspec": {
      "name": "python3",
      "display_name": "Python 3"
    },
    "accelerator": "TPU"
  },
  "cells": [
    {
      "cell_type": "markdown",
      "metadata": {
        "id": "PV7GOlESht3E",
        "colab_type": "text"
      },
      "source": [
        "## Upper Conficence Bound"
      ]
    },
    {
      "cell_type": "code",
      "metadata": {
        "id": "_jqD0kShhwrU",
        "colab_type": "code",
        "colab": {}
      },
      "source": [
        "import numpy as np\n",
        "import pandas as pd\n",
        "import matplotlib.pyplot as plt\n"
      ],
      "execution_count": 0,
      "outputs": []
    },
    {
      "cell_type": "markdown",
      "metadata": {
        "id": "hj6EQmWCh3hu",
        "colab_type": "text"
      },
      "source": [
        "## Importing dataset"
      ]
    },
    {
      "cell_type": "code",
      "metadata": {
        "id": "94V7iwZah6as",
        "colab_type": "code",
        "colab": {}
      },
      "source": [
        "dataset = pd.read_csv('Ads_CTR_Optimisation.csv')\n",
        "dataset"
      ],
      "execution_count": 0,
      "outputs": []
    },
    {
      "cell_type": "markdown",
      "metadata": {
        "id": "9JdE_IQPkgUP",
        "colab_type": "text"
      },
      "source": [
        "## Implementing Random Selection"
      ]
    },
    {
      "cell_type": "code",
      "metadata": {
        "id": "YYhR16wPkjXs",
        "colab_type": "code",
        "colab": {
          "base_uri": "https://localhost:8080/",
          "height": 34
        },
        "outputId": "a3464857-0c8f-4258-ace6-680c8ce63868"
      },
      "source": [
        "import random\n",
        "N = 10000\n",
        "d =10\n",
        "ads_selected = []\n",
        "total_reward = 0\n",
        "for n in range(0,N):\n",
        "  ad = random.randrange(d)\n",
        "  ads_selected.append(ad)\n",
        "  reward = dataset.values[n , ad]\n",
        "  total_reward = total_reward + reward\n",
        "\n",
        "total_reward"
      ],
      "execution_count": 4,
      "outputs": [
        {
          "output_type": "execute_result",
          "data": {
            "text/plain": [
              "1236"
            ]
          },
          "metadata": {
            "tags": []
          },
          "execution_count": 4
        }
      ]
    },
    {
      "cell_type": "markdown",
      "metadata": {
        "id": "WOmyQhOclfxM",
        "colab_type": "text"
      },
      "source": [
        "## Implementing UCB"
      ]
    },
    {
      "cell_type": "code",
      "metadata": {
        "id": "KNOHd4AHli7X",
        "colab_type": "code",
        "colab": {}
      },
      "source": [
        "import math\n",
        "\n",
        "numbers_of_selections = [0] * d\n",
        "sums_of_reward = [0] * d\n",
        "ads_select = []\n",
        "total_reward = 0\n",
        "for n in range(0 , N):\n",
        "  ad = 0\n",
        "  max_upper_bound = 0\n",
        "  for i in range(0 , d):\n",
        "    if(numbers_of_selections[i] > 0):\n",
        "      average_reward = sums_of_reward[i] / numbers_of_selections[i]\n",
        "      delta_i = math.sqrt(1.5 * math.log(n +1) / numbers_of_selections[i])\n",
        "      upper_bound = average_reward + delta_i\n",
        "    else:\n",
        "      upper_bound = 1e400\n",
        "    if(upper_bound > max_upper_bound):\n",
        "        max_upper_bound = upper_bound\n",
        "        ad = i\n",
        "  ads_select.append(ad)\n",
        "  numbers_of_selections[ad] += 1\n",
        "  reward = dataset.values[n , ad]\n",
        "  sums_of_reward[ad] = sums_of_reward[ad] + reward\n",
        "  total_reward = total_reward + reward\n",
        "\n",
        "\n",
        "ads_select\n",
        "\n"
      ],
      "execution_count": 0,
      "outputs": []
    },
    {
      "cell_type": "markdown",
      "metadata": {
        "id": "nRC6IWVEyCX0",
        "colab_type": "text"
      },
      "source": [
        "## Visualizing the Algorithm"
      ]
    },
    {
      "cell_type": "code",
      "metadata": {
        "id": "NP8asPhsyGcy",
        "colab_type": "code",
        "colab": {
          "base_uri": "https://localhost:8080/",
          "height": 295
        },
        "outputId": "ce5dc66a-6366-44f2-a37e-b24b8f5cca4a"
      },
      "source": [
        "plt.hist(ads_select)\n",
        "plt.title('Histogram of Ads Selections')\n",
        "plt.xlabel('Ads')\n",
        "plt.ylabel('Number of times each ad selected')\n",
        "plt.show()"
      ],
      "execution_count": 11,
      "outputs": [
        {
          "output_type": "display_data",
          "data": {
            "image/png": "[encoded data removed]",
            "text/plain": [
              "<Figure size 432x288 with 1 Axes>"
            ]
          },
          "metadata": {
            "tags": [],
            "needs_background": "light"
          }
        }
      ]
    }
  ]
}